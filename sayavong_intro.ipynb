{
 "cells": [
  {
   "cell_type": "markdown",
   "id": "316a94ea-6a78-47a8-b74a-58c4dea48312",
   "metadata": {},
   "source": [
    "# Week 1 Notebook"
   ]
  },
  {
   "cell_type": "markdown",
   "id": "379ef60b-fb6e-4203-85f8-a32b8bf5c832",
   "metadata": {},
   "source": [
    "## Zion Sayavong"
   ]
  },
  {
   "cell_type": "code",
   "execution_count": 1,
   "id": "303de5c2-ec80-4bb6-a658-6e4e9542976e",
   "metadata": {},
   "outputs": [],
   "source": [
    "import random\n",
    "num = [random.randint(30,100) for i in range(0,40)]"
   ]
  },
  {
   "cell_type": "code",
   "execution_count": 2,
   "id": "0ef78ad8-e06f-40be-8a1b-d4788c47dcf9",
   "metadata": {},
   "outputs": [
    {
     "name": "stdout",
     "output_type": "stream",
     "text": [
      "30 32 32 35 39 39 40 42 43 44 46 47 47 49 51 53 54 59 60 64 64 65 67 71 72 72 74 75 77 79 80 83 83 87 92 92 93 94 97 100 "
     ]
    }
   ],
   "source": [
    "num.sort()\n",
    "for val in num:\n",
    "    print(val,end=' ')"
   ]
  },
  {
   "cell_type": "markdown",
   "id": "8fad1332-437b-4cd3-994a-f4a6db3ecc75",
   "metadata": {},
   "source": [
    "## The Sample Mean\n",
    "The Sample Mean, also known as the average, is calculated as such:\n",
    "* Add up all the values inside of the sample\n",
    "* Divide by the number of samples\n",
    "* i.e: if you had a list of [10, 5, 6], the mean would be 7"
   ]
  },
  {
   "cell_type": "markdown",
   "id": "89a050c9-3486-49f9-9592-63409f4cf64b",
   "metadata": {},
   "source": [
    "$$\n",
    "\\overline{X} = \\frac{\\sum x_i}{n}\n",
    "$$"
   ]
  },
  {
   "cell_type": "code",
   "execution_count": 3,
   "id": "15b69386-6b49-4eba-bbde-9f4ba40a96b4",
   "metadata": {},
   "outputs": [
    {
     "data": {
      "text/plain": [
       "'63.08'"
      ]
     },
     "execution_count": 3,
     "metadata": {},
     "output_type": "execute_result"
    }
   ],
   "source": [
    "f'{(sum(num)/len(num)):.2f}'"
   ]
  },
  {
   "cell_type": "markdown",
   "id": "bfa30f8c-359c-4791-a2f5-1083fd932237",
   "metadata": {},
   "source": [
    "## The Median\n",
    "[The Median in Statistics](https://byjus.com/maths/median/ \"Median Definition\")"
   ]
  },
  {
   "cell_type": "code",
   "execution_count": 4,
   "id": "8b888b85-d7db-4763-9c61-eacb1e019df6",
   "metadata": {},
   "outputs": [
    {
     "data": {
      "text/plain": [
       "'64.0'"
      ]
     },
     "execution_count": 4,
     "metadata": {},
     "output_type": "execute_result"
    }
   ],
   "source": [
    "'''\n",
    "The median of a set is the middle value of that set. Since there is no true middle to an even numbered set,\n",
    "the median is found by finding the mean of the middle two values.\n",
    "'''\n",
    "middle1 = num[int(len(num)/2)-1]\n",
    "middle2 = num[int(len(num)/2)]\n",
    "median = (middle1+middle2)/2\n",
    "\n",
    "f'{median}'"
   ]
  },
  {
   "cell_type": "code",
   "execution_count": null,
   "id": "f9669e46-7ee8-45ef-9c56-3c12813f7997",
   "metadata": {},
   "outputs": [],
   "source": []
  }
 ],
 "metadata": {
  "kernelspec": {
   "display_name": "Python 3 (ipykernel)",
   "language": "python",
   "name": "python3"
  },
  "language_info": {
   "codemirror_mode": {
    "name": "ipython",
    "version": 3
   },
   "file_extension": ".py",
   "mimetype": "text/x-python",
   "name": "python",
   "nbconvert_exporter": "python",
   "pygments_lexer": "ipython3",
   "version": "3.11.7"
  }
 },
 "nbformat": 4,
 "nbformat_minor": 5
}
